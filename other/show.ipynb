{
 "cells": [
  {
   "cell_type": "code",
   "execution_count": null,
   "metadata": {},
   "outputs": [],
   "source": [
    "import os\n",
    "import json\n",
    "from tqdm import tqdm\n",
    "import pandas as pd\n",
    "import matplotlib.pyplot as plt\n",
    "import matplotlib.image as mpimg"
   ]
  },
  {
   "cell_type": "code",
   "execution_count": null,
   "metadata": {},
   "outputs": [],
   "source": [
    "JSON_FILE_PATH = '../data/data.json'\n",
    "IMAGES_FOLDER_PATH = '../data/images'\n",
    "LABELLED_IMAGES_FOLDER_PATH = '../data/labelled_images'\n",
    "\n",
    "OCCLUDED_COLOR = 'red'\n",
    "NOT_OCCLUDED_COLOR = 'blue'"
   ]
  },
  {
   "cell_type": "code",
   "execution_count": null,
   "metadata": {},
   "outputs": [],
   "source": [
    "def get_dataframe_from_json(json_file):\n",
    "    \"\"\"\n",
    "    Get a pandas DataFrame from a json file with LED coordinates for each frame.\n",
    "    \n",
    "    Args:\n",
    "        json_file (str): Path to the json file.\n",
    "        \n",
    "    Returns:\n",
    "        df (pd.DataFrame): DataFrame with columns ['frame', 'led', 'x', 'y', 'occluded'].\n",
    "    \"\"\"\n",
    "    with open(json_file, 'r') as file:\n",
    "        data = json.load(file)\n",
    "    \n",
    "    frames = []\n",
    "    for frame, leds in data.items():\n",
    "        for led, led_data in leds.items():\n",
    "            frames.append([frame, led, led_data[\"x_cam\"], led_data[\"y_cam\"], led_data[\"occluded\"]])\n",
    "\n",
    "    df = pd.DataFrame(frames, columns=['frame', 'led', 'x_cam', 'y_cam', 'occluded'])\n",
    "    df.set_index(['frame', 'led'], inplace=True)\n",
    "    return df\n",
    "\n",
    "df = get_dataframe_from_json(JSON_FILE_PATH)\n",
    "df.head()"
   ]
  },
  {
   "cell_type": "code",
   "execution_count": null,
   "metadata": {},
   "outputs": [],
   "source": [
    "for frame, frame_data in tqdm(df.groupby(level=\"frame\")):\n",
    "    # Get frame image\n",
    "    image_path = os.path.join(IMAGES_FOLDER_PATH, f'{int(frame):04d}.png')\n",
    "    image = mpimg.imread(image_path)\n",
    "    image_width = image.shape[1]\n",
    "    image_height = image.shape[0]\n",
    "    \n",
    "    # Plot image\n",
    "    plt.figure(figsize=(image_width / 100, image_height / 100))\n",
    "    plt.imshow(image, cmap='gray')\n",
    "    \n",
    "    # Plot LEDs\n",
    "    for index, coords in frame_data.iterrows():\n",
    "        x = coords['x_cam'] * image_width\n",
    "        y = (1 - coords['y_cam']) * image_height\n",
    "\n",
    "        if x < 0 or x > image_width or y < 0 or y > image_height:\n",
    "            print(f\"Element at frame {frame} is not visible.\")\n",
    "            continue\n",
    "        \n",
    "        # Plot LED\n",
    "        plt.scatter(x, y, \n",
    "                    marker='x', s=20, linewidths=0.7,\n",
    "                    alpha=0.8, color=OCCLUDED_COLOR if coords['occluded'] else NOT_OCCLUDED_COLOR)\n",
    "        \n",
    "    plt.axis('off')\n",
    "    plt.gca().set_axis_off()\n",
    "    plt.subplots_adjust(top=1, bottom=0, right=1, left=0, hspace=0, wspace=0)\n",
    "    plt.margins(0, 0)\n",
    "    plt.gca().xaxis.set_major_locator(plt.NullLocator())\n",
    "    plt.gca().yaxis.set_major_locator(plt.NullLocator())\n",
    "    \n",
    "    # Save image\n",
    "    plt.savefig(os.path.join(LABELLED_IMAGES_FOLDER_PATH, f'{int(frame):04d}.png'), dpi=300)\n",
    "    plt.close()"
   ]
  },
  {
   "cell_type": "code",
   "execution_count": null,
   "metadata": {},
   "outputs": [],
   "source": []
  },
  {
   "cell_type": "code",
   "execution_count": null,
   "metadata": {},
   "outputs": [],
   "source": []
  }
 ],
 "metadata": {
  "kernelspec": {
   "display_name": "Python 3",
   "language": "python",
   "name": "python3"
  },
  "language_info": {
   "codemirror_mode": {
    "name": "ipython",
    "version": 3
   },
   "file_extension": ".py",
   "mimetype": "text/x-python",
   "name": "python",
   "nbconvert_exporter": "python",
   "pygments_lexer": "ipython3",
   "version": "3.11.5"
  }
 },
 "nbformat": 4,
 "nbformat_minor": 2
}
